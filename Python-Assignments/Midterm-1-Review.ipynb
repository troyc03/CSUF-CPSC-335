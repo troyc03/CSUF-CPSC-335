{
 "cells": [
  {
   "cell_type": "markdown",
   "metadata": {},
   "source": [
    "# Chapter 1: Introduction to Algorithm Design\n",
    "\n",
    "An **algorithm** is a sequence of unambiguous, clear and correct instructions for solving a problem, that are able to terminate.\n",
    "\n",
    "Designing a good algorithm must follow these guidelines:\n",
    "\n",
    "1. Be clear about what problem your algorithm will solve\n",
    "2. Pick a pattern.\n",
    "3. Produce a first draft, using the selected pattern\n",
    "4. Revise the draft by filling in blanks, eliminating potential infinite loops, or clarifying\n",
    "unclear passages.\n",
    "5. Repeat until your algorithm is correct, clear and able to terminate\n",
    "6. Write a final and clean draft, ensuring your algorithm will be clear to others\n",
    "7. Prove that your algorithm is correct, working from your final draft.\n",
    "8. Prove the efficiency of your algorithm"
   ]
  },
  {
   "cell_type": "markdown",
   "metadata": {},
   "source": [
    "An **implementation** of an algorithm is executable computer code that follows the process defined by the algorithm. \n",
    "\n",
    "__eg.__\n",
    "\n",
    "```\n",
    "def keep_positives(S):\n",
    "    if len(S) == 0:\n",
    "        return 0\n",
    "    else:\n",
    "        result = []\n",
    "        for i in S:\n",
    "            if i > 0:\n",
    "                result.append(i)\n",
    "        return result\n",
    "```"
   ]
  }
 ],
 "metadata": {
  "language_info": {
   "name": "python"
  }
 },
 "nbformat": 4,
 "nbformat_minor": 2
}
