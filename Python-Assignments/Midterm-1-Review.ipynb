{
 "cells": [
  {
   "cell_type": "markdown",
   "metadata": {},
   "source": [
    "# Chapter 1: Introduction to Algorithm Design\n",
    "\n",
    "An **algorithm** is a sequence of unambiguous, clear and correct instructions for solving a problem, that are able to terminate.\n",
    "\n",
    "Designing a good algorithm must follow these guidelines:\n",
    "\n",
    "1. Be clear about what problem your algorithm will solve\n",
    "2. Pick a pattern.\n",
    "3. Produce a first draft, using the selected pattern\n",
    "4. Revise the draft by filling in blanks, eliminating potential infinite loops, or clarifying\n",
    "unclear passages.\n",
    "5. Repeat until your algorithm is correct, clear and able to terminate\n",
    "6. Write a final and clean draft, ensuring your algorithm will be clear to others\n",
    "7. Prove that your algorithm is correct, working from your final draft.\n",
    "8. Prove the efficiency of your algorithm"
   ]
  },
  {
   "cell_type": "markdown",
   "metadata": {},
   "source": [
    "An **implementation** of an algorithm is executable computer code that follows the process defined by the algorithm. \n",
    "\n",
    "__eg.__\n",
    "\n",
    "```\n",
    "def keep_positives(S):\n",
    "    if len(S) == 0:\n",
    "        return 0\n",
    "    else:\n",
    "        result = []\n",
    "        for i in S:\n",
    "            if i > 0:\n",
    "                result.append(i)\n",
    "        return result\n",
    "```"
   ]
  },
  {
   "cell_type": "markdown",
   "metadata": {},
   "source": [
    "**Pseudocode** is a human-readable format for communicating algorithms that may include code-like syntax, math notation, and prose. Please note that an algorithm is a kind of process, and there are many ways of communicating processes, such as step-by-step instructions, flowcharts, diagrams, and recipes. Though, the most efficient way of representing algorithms is with pseudocode. \n",
    "\n",
    "Writing and interpreting pseudocode must follow the given guidelines:\n",
    "\n",
    "1. **Input and output**: Are the algorithm’s inputs and outputs clear, and explicitly separated from other variables? Arguments should\n",
    "correspond to problem inputs; return value corresponds to problem output.\n",
    "2. **Undefined variables**: Are any variables used before they are defined or initialized?\n",
    "3. **Variable meanings**: Is the intended meaning of every variable clear? Potentially-confusing variables should be explained with a\n",
    "comment\n",
    "4. **Defined return value**: Does every execution path have a defined return value?\n",
    "5. **Return value data type**: Does the data type of every returned value match the output in the problem definition?\n",
    "6. **Handles all cases**: Does your algorithm have the potential to return every kind of valid output?\n",
    "7. **Loop termination**: Does every loop have a termination condition that prevents infinite loops?\n",
    "8. **Base case**: Does every recursive function have a clearly-defined base case?\n",
    "9. **Repetitive code**: Repetitive code should be moved into a helper function or loop.\n",
    "10. **Dead code**: Delete code that is never executed.\n",
    "11. **Vagueness**: Are any steps vague? Check that every line of pseudocode could be translated into program code without elaboration."
   ]
  },
  {
   "cell_type": "markdown",
   "metadata": {},
   "source": [
    "**Exercises**:\n",
    "\n",
    "1. Write a problem definition for each of the following problems.\n",
    "(a) computing a square root\n",
    "(b) determining whether an integer is even or odd\n",
    "(c) determining whether every element in a sequence is identical\n",
    "(d) determining whether two strings are identical\n",
    "(e) determining whether a sequence contains entirely positive numbers\n",
    "(f) determining whether a sequence is in strictly increasing order (i.e. each number is greater\n",
    "than the last)\n",
    "(g) concatenating two sequences into one larger sequence\n",
    "\n",
    "2. Prove that it is possible for one algorithm to solve multiple problems. (Hint: give a constructive\n",
    "proof including two problems, an algorithm, and an argument that the algorithm solves both\n",
    "problems correctly)\n",
    "\n",
    "3. Why is this section of the book titled “Exercises” and not “Problems”?\n",
    "\n",
    "4. Do some research on the Internet to find a problem that computer scientists consider to be\n",
    "difficult for algorithms to solve. Write a definition of the problem in our format, complete\n",
    "with an input and output specification."
   ]
  },
  {
   "cell_type": "code",
   "execution_count": null,
   "metadata": {
    "vscode": {
     "languageId": "plaintext"
    }
   },
   "outputs": [],
   "source": []
  }
 ],
 "metadata": {
  "language_info": {
   "name": "python"
  }
 },
 "nbformat": 4,
 "nbformat_minor": 2
}
